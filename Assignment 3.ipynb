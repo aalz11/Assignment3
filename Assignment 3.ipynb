{
 "cells": [
  {
   "cell_type": "markdown",
   "id": "3d10ef99",
   "metadata": {},
   "source": [
    "# CLASSIC BOOKS\n",
    "\n",
    "## AUTHOR: Aaliyah Lambat\n",
    "## DATE: 10/04/2023\n",
    "## SOURCE: ChatGPT\n",
    "## GITHUB:"
   ]
  },
  {
   "cell_type": "code",
   "execution_count": 12,
   "id": "061069ae",
   "metadata": {},
   "outputs": [
    {
     "data": {
      "text/html": [
       "<div>\n",
       "<style scoped>\n",
       "    .dataframe tbody tr th:only-of-type {\n",
       "        vertical-align: middle;\n",
       "    }\n",
       "\n",
       "    .dataframe tbody tr th {\n",
       "        vertical-align: top;\n",
       "    }\n",
       "\n",
       "    .dataframe thead th {\n",
       "        text-align: right;\n",
       "    }\n",
       "</style>\n",
       "<table border=\"1\" class=\"dataframe\">\n",
       "  <thead>\n",
       "    <tr style=\"text-align: right;\">\n",
       "      <th></th>\n",
       "      <th>Title</th>\n",
       "      <th>Author</th>\n",
       "      <th>Year</th>\n",
       "      <th>Pages</th>\n",
       "      <th>Rating</th>\n",
       "    </tr>\n",
       "  </thead>\n",
       "  <tbody>\n",
       "    <tr>\n",
       "      <th>0</th>\n",
       "      <td>To Kill a Mockingbird</td>\n",
       "      <td>Harper Lee</td>\n",
       "      <td>1960</td>\n",
       "      <td>281</td>\n",
       "      <td>4.27</td>\n",
       "    </tr>\n",
       "    <tr>\n",
       "      <th>1</th>\n",
       "      <td>1984</td>\n",
       "      <td>George Orwell</td>\n",
       "      <td>1949</td>\n",
       "      <td>328</td>\n",
       "      <td>4.19</td>\n",
       "    </tr>\n",
       "    <tr>\n",
       "      <th>2</th>\n",
       "      <td>The Catcher in the Rye</td>\n",
       "      <td>J.D. Salinger</td>\n",
       "      <td>1951</td>\n",
       "      <td>277</td>\n",
       "      <td>3.80</td>\n",
       "    </tr>\n",
       "    <tr>\n",
       "      <th>3</th>\n",
       "      <td>The Great Gatsby</td>\n",
       "      <td>F. Scott Fitzgerald</td>\n",
       "      <td>1925</td>\n",
       "      <td>180</td>\n",
       "      <td>3.92</td>\n",
       "    </tr>\n",
       "    <tr>\n",
       "      <th>4</th>\n",
       "      <td>Pride and Prejudice</td>\n",
       "      <td>Jane Austen</td>\n",
       "      <td>1813</td>\n",
       "      <td>279</td>\n",
       "      <td>4.28</td>\n",
       "    </tr>\n",
       "    <tr>\n",
       "      <th>5</th>\n",
       "      <td>Animal Farm</td>\n",
       "      <td>George Orwell</td>\n",
       "      <td>1945</td>\n",
       "      <td>112</td>\n",
       "      <td>3.95</td>\n",
       "    </tr>\n",
       "    <tr>\n",
       "      <th>6</th>\n",
       "      <td>The Lord of the Rings</td>\n",
       "      <td>J.R.R. Tolkien</td>\n",
       "      <td>1954</td>\n",
       "      <td>1178</td>\n",
       "      <td>4.49</td>\n",
       "    </tr>\n",
       "    <tr>\n",
       "      <th>7</th>\n",
       "      <td>The Hobbit</td>\n",
       "      <td>J.R.R. Tolkien</td>\n",
       "      <td>1937</td>\n",
       "      <td>310</td>\n",
       "      <td>4.28</td>\n",
       "    </tr>\n",
       "    <tr>\n",
       "      <th>8</th>\n",
       "      <td>One Hundred Years of Solitude</td>\n",
       "      <td>Gabriel Garcia Marquez</td>\n",
       "      <td>1967</td>\n",
       "      <td>417</td>\n",
       "      <td>4.08</td>\n",
       "    </tr>\n",
       "    <tr>\n",
       "      <th>9</th>\n",
       "      <td>Brave New World</td>\n",
       "      <td>Aldous Huxley</td>\n",
       "      <td>1932</td>\n",
       "      <td>311</td>\n",
       "      <td>3.98</td>\n",
       "    </tr>\n",
       "  </tbody>\n",
       "</table>\n",
       "</div>"
      ],
      "text/plain": [
       "                           Title                  Author  Year  Pages  Rating\n",
       "0          To Kill a Mockingbird              Harper Lee  1960    281    4.27\n",
       "1                           1984           George Orwell  1949    328    4.19\n",
       "2         The Catcher in the Rye           J.D. Salinger  1951    277    3.80\n",
       "3               The Great Gatsby     F. Scott Fitzgerald  1925    180    3.92\n",
       "4            Pride and Prejudice             Jane Austen  1813    279    4.28\n",
       "5                    Animal Farm           George Orwell  1945    112    3.95\n",
       "6          The Lord of the Rings          J.R.R. Tolkien  1954   1178    4.49\n",
       "7                     The Hobbit          J.R.R. Tolkien  1937    310    4.28\n",
       "8  One Hundred Years of Solitude  Gabriel Garcia Marquez  1967    417    4.08\n",
       "9                Brave New World           Aldous Huxley  1932    311    3.98"
      ]
     },
     "execution_count": 12,
     "metadata": {},
     "output_type": "execute_result"
    }
   ],
   "source": [
    "import pandas as pd\n",
    "from scipy import stats\n",
    "from pandas.plotting import scatter_matrix\n",
    "import matplotlib.pyplot as plt\n",
    "import seaborn as sns\n",
    "import numpy as np\n",
    "\n",
    "df = pd.read_csv('books_data.csv')\n",
    "df.head(10)"
   ]
  },
  {
   "cell_type": "markdown",
   "id": "9a12be7c",
   "metadata": {},
   "source": [
    "## CLEANUP DATA"
   ]
  },
  {
   "cell_type": "markdown",
   "id": "022be5b5",
   "metadata": {},
   "source": [
    "No cleanup needed! :)"
   ]
  },
  {
   "cell_type": "markdown",
   "id": "75025c35",
   "metadata": {},
   "source": [
    "***"
   ]
  },
  {
   "cell_type": "markdown",
   "id": "5c2443ea",
   "metadata": {},
   "source": [
    "## SUMMARY OF DATA"
   ]
  },
  {
   "cell_type": "code",
   "execution_count": 4,
   "id": "7017c2b8",
   "metadata": {},
   "outputs": [
    {
     "name": "stdout",
     "output_type": "stream",
     "text": [
      "50\n",
      "(10, 5)\n"
     ]
    }
   ],
   "source": [
    "print(df.size)\n",
    "print(df.shape)"
   ]
  },
  {
   "cell_type": "code",
   "execution_count": 5,
   "id": "02fc5466",
   "metadata": {},
   "outputs": [
    {
     "data": {
      "text/html": [
       "<div>\n",
       "<style scoped>\n",
       "    .dataframe tbody tr th:only-of-type {\n",
       "        vertical-align: middle;\n",
       "    }\n",
       "\n",
       "    .dataframe tbody tr th {\n",
       "        vertical-align: top;\n",
       "    }\n",
       "\n",
       "    .dataframe thead th {\n",
       "        text-align: right;\n",
       "    }\n",
       "</style>\n",
       "<table border=\"1\" class=\"dataframe\">\n",
       "  <thead>\n",
       "    <tr style=\"text-align: right;\">\n",
       "      <th></th>\n",
       "      <th>Year</th>\n",
       "      <th>Pages</th>\n",
       "      <th>Rating</th>\n",
       "    </tr>\n",
       "  </thead>\n",
       "  <tbody>\n",
       "    <tr>\n",
       "      <th>count</th>\n",
       "      <td>10.000000</td>\n",
       "      <td>10.000000</td>\n",
       "      <td>10.000000</td>\n",
       "    </tr>\n",
       "    <tr>\n",
       "      <th>mean</th>\n",
       "      <td>1933.300000</td>\n",
       "      <td>367.300000</td>\n",
       "      <td>4.124000</td>\n",
       "    </tr>\n",
       "    <tr>\n",
       "      <th>std</th>\n",
       "      <td>44.133761</td>\n",
       "      <td>296.528076</td>\n",
       "      <td>0.212875</td>\n",
       "    </tr>\n",
       "    <tr>\n",
       "      <th>min</th>\n",
       "      <td>1813.000000</td>\n",
       "      <td>112.000000</td>\n",
       "      <td>3.800000</td>\n",
       "    </tr>\n",
       "    <tr>\n",
       "      <th>25%</th>\n",
       "      <td>1933.250000</td>\n",
       "      <td>277.500000</td>\n",
       "      <td>3.957500</td>\n",
       "    </tr>\n",
       "    <tr>\n",
       "      <th>50%</th>\n",
       "      <td>1947.000000</td>\n",
       "      <td>295.500000</td>\n",
       "      <td>4.135000</td>\n",
       "    </tr>\n",
       "    <tr>\n",
       "      <th>75%</th>\n",
       "      <td>1953.250000</td>\n",
       "      <td>323.750000</td>\n",
       "      <td>4.277500</td>\n",
       "    </tr>\n",
       "    <tr>\n",
       "      <th>max</th>\n",
       "      <td>1967.000000</td>\n",
       "      <td>1178.000000</td>\n",
       "      <td>4.490000</td>\n",
       "    </tr>\n",
       "  </tbody>\n",
       "</table>\n",
       "</div>"
      ],
      "text/plain": [
       "              Year        Pages     Rating\n",
       "count    10.000000    10.000000  10.000000\n",
       "mean   1933.300000   367.300000   4.124000\n",
       "std      44.133761   296.528076   0.212875\n",
       "min    1813.000000   112.000000   3.800000\n",
       "25%    1933.250000   277.500000   3.957500\n",
       "50%    1947.000000   295.500000   4.135000\n",
       "75%    1953.250000   323.750000   4.277500\n",
       "max    1967.000000  1178.000000   4.490000"
      ]
     },
     "execution_count": 5,
     "metadata": {},
     "output_type": "execute_result"
    }
   ],
   "source": [
    "df.describe()"
   ]
  },
  {
   "cell_type": "markdown",
   "id": "02ff5009",
   "metadata": {},
   "source": [
    "***"
   ]
  },
  {
   "cell_type": "markdown",
   "id": "23fb4ca6",
   "metadata": {},
   "source": [
    "## STATISTICS"
   ]
  },
  {
   "cell_type": "markdown",
   "id": "2c523100",
   "metadata": {},
   "source": [
    "### LOCATION"
   ]
  },
  {
   "cell_type": "markdown",
   "id": "77ca032e",
   "metadata": {},
   "source": [
    "#### MEAN"
   ]
  },
  {
   "cell_type": "code",
   "execution_count": 6,
   "id": "751d62d9",
   "metadata": {},
   "outputs": [
    {
     "name": "stdout",
     "output_type": "stream",
     "text": [
      "Pages - Mean: 367.3\n"
     ]
    }
   ],
   "source": [
    "pages_mean = df['Pages'].mean()\n",
    "print('Pages - Mean:', pages_mean)"
   ]
  },
  {
   "cell_type": "markdown",
   "id": "269023d4",
   "metadata": {},
   "source": [
    "#### MEDIAN"
   ]
  },
  {
   "cell_type": "code",
   "execution_count": 7,
   "id": "5b07a558",
   "metadata": {},
   "outputs": [
    {
     "name": "stdout",
     "output_type": "stream",
     "text": [
      "Pages - Median: 295.5\n"
     ]
    }
   ],
   "source": [
    "pages_median = df['Pages'].median()\n",
    "print('Pages - Median:', pages_median)"
   ]
  },
  {
   "cell_type": "markdown",
   "id": "4dce3e7e",
   "metadata": {},
   "source": [
    "#### MODE"
   ]
  },
  {
   "cell_type": "code",
   "execution_count": 9,
   "id": "e8d9d2a6",
   "metadata": {},
   "outputs": [
    {
     "name": "stdout",
     "output_type": "stream",
     "text": [
      "Pages - Mode: 112\n"
     ]
    }
   ],
   "source": [
    "pages_mode = df['Pages'].mode()[0]\n",
    "print('Pages - Mode:', pages_mode)"
   ]
  },
  {
   "cell_type": "markdown",
   "id": "65d94c01",
   "metadata": {},
   "source": [
    "#### WEIGHTED MEAN"
   ]
  },
  {
   "cell_type": "code",
   "execution_count": 15,
   "id": "5c465548",
   "metadata": {},
   "outputs": [
    {
     "name": "stdout",
     "output_type": "stream",
     "text": [
      "Pages - Weighted Average: 317.30031428571425\n"
     ]
    }
   ],
   "source": [
    "df1 = pd.DataFrame.from_dict({\n",
    "    'Pages': [10, 367.3, 296.53, 112, 277.5, 295.5, 323.75, 1178],\n",
    "    'Rating': [10, 4.1, 0.2, 3.8, 4.0, 4.1, 4.3, 4.5]\n",
    "})\n",
    "\n",
    "weighted_average = np.average(a=df1['Pages'], weights=df1['Rating'])\n",
    "print('Pages - Weighted Average:',weighted_average)"
   ]
  },
  {
   "cell_type": "markdown",
   "id": "3be754a4",
   "metadata": {},
   "source": [
    "#### GEOMETRIC MEAN"
   ]
  },
  {
   "cell_type": "code",
   "execution_count": 18,
   "id": "6a557d7a",
   "metadata": {},
   "outputs": [
    {
     "name": "stdout",
     "output_type": "stream",
     "text": [
      "Pages - Geometric Mean: 210.22549855913346\n"
     ]
    }
   ],
   "source": [
    "from pandas import DataFrame\n",
    "from scipy.stats.mstats import gmean\n",
    "\n",
    "data = {'Pages': [10, 367.3, 296.53, 112, 277.5, 295.5, 323.75, 1178]}\n",
    "df2 = DataFrame(data)\n",
    "\n",
    "geometric_mean = gmean(df2.loc[:,'Pages'])\n",
    "print ('Pages - Geometric Mean: ' + str(geometric_mean)) "
   ]
  },
  {
   "cell_type": "markdown",
   "id": "82e8f760",
   "metadata": {},
   "source": [
    "#### PERCENTILE"
   ]
  },
  {
   "cell_type": "code",
   "execution_count": 4,
   "id": "68f04a32",
   "metadata": {},
   "outputs": [
    {
     "name": "stdout",
     "output_type": "stream",
     "text": [
      "Pages - Percentile:  1178.0\n"
     ]
    }
   ],
   "source": [
    "import numpy as np\n",
    "\n",
    "# Array of data\n",
    "arr = [10, 367.3, 296.53, 112, 277.5, 295.5, 323.75, 1178]\n",
    "\n",
    "# Finding the 100 percentile \n",
    "x = np.percentile(arr, 100)\n",
    "print('Pages - Percentile: ', x)"
   ]
  },
  {
   "cell_type": "markdown",
   "id": "04b81533",
   "metadata": {},
   "source": [
    "#### QUARTILES"
   ]
  },
  {
   "cell_type": "code",
   "execution_count": 5,
   "id": "a5234443",
   "metadata": {},
   "outputs": [
    {
     "name": "stdout",
     "output_type": "stream",
     "text": [
      "Pages - 1st Quartile:  236.125\n"
     ]
    }
   ],
   "source": [
    "import numpy\n",
    "\n",
    "values = [10, 367.3, 296.53, 112, 277.5, 295.5, 323.75, 1178]\n",
    "\n",
    "x = numpy.percentile(values, 25)\n",
    "\n",
    "print('Pages - 1st Quartile: ', x)"
   ]
  },
  {
   "cell_type": "code",
   "execution_count": 7,
   "id": "fb1e12cf",
   "metadata": {},
   "outputs": [
    {
     "name": "stdout",
     "output_type": "stream",
     "text": [
      "Pages - 2nd Quartile:  296.015\n"
     ]
    }
   ],
   "source": [
    "import numpy\n",
    "\n",
    "values = [10, 367.3, 296.53, 112, 277.5, 295.5, 323.75, 1178]\n",
    "\n",
    "x = numpy.percentile(values, 50)\n",
    "\n",
    "print('Pages - 2nd Quartile: ', x)"
   ]
  },
  {
   "cell_type": "code",
   "execution_count": 8,
   "id": "750762cf",
   "metadata": {},
   "outputs": [
    {
     "name": "stdout",
     "output_type": "stream",
     "text": [
      "Pages - 3rd Quartile:  334.6375\n"
     ]
    }
   ],
   "source": [
    "import numpy\n",
    "\n",
    "values = [10, 367.3, 296.53, 112, 277.5, 295.5, 323.75, 1178]\n",
    "\n",
    "x = numpy.percentile(values, 75)\n",
    "\n",
    "print('Pages - 3rd Quartile: ', x)"
   ]
  },
  {
   "cell_type": "markdown",
   "id": "62bc32be",
   "metadata": {},
   "source": [
    "***"
   ]
  },
  {
   "cell_type": "markdown",
   "id": "9bccb654",
   "metadata": {},
   "source": [
    "### VARIABILITY"
   ]
  },
  {
   "cell_type": "markdown",
   "id": "52f4ebad",
   "metadata": {},
   "source": [
    "#### RANGE"
   ]
  },
  {
   "cell_type": "code",
   "execution_count": 14,
   "id": "d0cbd64a",
   "metadata": {},
   "outputs": [
    {
     "name": "stdout",
     "output_type": "stream",
     "text": [
      "Pages - Range:  1168\n"
     ]
    }
   ],
   "source": [
    "data = [10, 367.3, 296.53, 112, 277.5, 295.5, 323.75, 1178]\n",
    "\n",
    "r = max(data)-min(data)\n",
    "print('Pages - Range: ', r)"
   ]
  },
  {
   "cell_type": "markdown",
   "id": "5e53c9de",
   "metadata": {},
   "source": [
    "#### INTERQUARTILE RANGE"
   ]
  },
  {
   "cell_type": "code",
   "execution_count": 16,
   "id": "ba1ef54d",
   "metadata": {},
   "outputs": [
    {
     "name": "stdout",
     "output_type": "stream",
     "text": [
      "98.51249999999999\n"
     ]
    }
   ],
   "source": [
    "data = [10, 367.3, 296.53, 112, 277.5, 295.5, 323.75, 1178]\n",
    "\n",
    "q1, q3 = np.percentile(data,[25, 75])\n",
    "iqr = q3 - q1\n",
    "print(iqr)"
   ]
  },
  {
   "cell_type": "markdown",
   "id": "e1b6d8bb",
   "metadata": {},
   "source": [
    "#### VARIANCE"
   ]
  },
  {
   "cell_type": "code",
   "execution_count": 17,
   "id": "26257703",
   "metadata": {},
   "outputs": [
    {
     "data": {
      "text/plain": [
       "108680.39391875"
      ]
     },
     "execution_count": 17,
     "metadata": {},
     "output_type": "execute_result"
    }
   ],
   "source": [
    "def variance(data):\n",
    "    # Number of observations\n",
    "    n = len(data)\n",
    "    \n",
    "    # Mean of the data\n",
    "    mean = sum(data) / n\n",
    "    \n",
    "    # Square deviations\n",
    "    deviations = [(x - mean) ** 2 for x in data]\n",
    "    \n",
    "    # Variance\n",
    "    variance = sum(deviations) / n\n",
    "    return variance\n",
    "\n",
    "variance([10, 367.3, 296.53, 112, 277.5, 295.5, 323.75, 1178])"
   ]
  },
  {
   "cell_type": "markdown",
   "id": "2efb53dd",
   "metadata": {},
   "source": [
    "#### STANDARD DEVIATION"
   ]
  },
  {
   "cell_type": "code",
   "execution_count": 18,
   "id": "54b8471a",
   "metadata": {},
   "outputs": [
    {
     "data": {
      "text/plain": [
       "329.6670955960725"
      ]
     },
     "execution_count": 18,
     "metadata": {},
     "output_type": "execute_result"
    }
   ],
   "source": [
    "import math\n",
    "\n",
    "def variance(data, ddof=0):\n",
    "    n = len(data)\n",
    "    mean = sum(data) / n\n",
    "    return sum((x - mean) ** 2 for x in data) / (n - ddof)\n",
    "\n",
    "def stdev(data):\n",
    "    var = variance(data)\n",
    "    std_dev = math.sqrt(var)\n",
    "    return std_dev\n",
    "\n",
    "stdev([10, 367.3, 296.53, 112, 277.5, 295.5, 323.75, 1178])"
   ]
  },
  {
   "cell_type": "markdown",
   "id": "2daf78cf",
   "metadata": {},
   "source": [
    "#### CORRELATION OF VARIATION"
   ]
  },
  {
   "cell_type": "code",
   "execution_count": 21,
   "id": "464109e1",
   "metadata": {},
   "outputs": [
    {
     "data": {
      "text/plain": [
       "-0.21439217390953685"
      ]
     },
     "execution_count": 21,
     "metadata": {},
     "output_type": "execute_result"
    }
   ],
   "source": [
    "import pandas as pd\n",
    "\n",
    "x = pd.Series([10, 367.3, 296.53, 112, 277.5, 295.5, 323.75, 1178])\n",
    "y = pd.Series([10, 4.1, 0.2, 3.8, 4.0, 4.1, 4.3, 4.5])\n",
    "\n",
    "x.corr(y)                     # Pearson's r\n",
    "y.corr(x)"
   ]
  },
  {
   "cell_type": "markdown",
   "id": "72d4681f",
   "metadata": {},
   "source": [
    "***"
   ]
  },
  {
   "cell_type": "markdown",
   "id": "d60194b6",
   "metadata": {},
   "source": [
    "### 5 NUMBER SUMMARY"
   ]
  },
  {
   "cell_type": "markdown",
   "id": "f7f3056e",
   "metadata": {},
   "source": [
    "#### MIN"
   ]
  },
  {
   "cell_type": "code",
   "execution_count": 22,
   "id": "b7b2866d",
   "metadata": {},
   "outputs": [
    {
     "name": "stdout",
     "output_type": "stream",
     "text": [
      "Pages - Min:  10\n"
     ]
    }
   ],
   "source": [
    "data = [10, 367.3, 296.53, 112, 277.5, 295.5, 323.75, 1178]\n",
    "\n",
    "r = min(data)\n",
    "print('Pages - Min: ', r)"
   ]
  },
  {
   "cell_type": "markdown",
   "id": "c7dfb4b8",
   "metadata": {},
   "source": [
    "#### 1ST QUARTILE"
   ]
  },
  {
   "cell_type": "code",
   "execution_count": 24,
   "id": "5e9779de",
   "metadata": {},
   "outputs": [
    {
     "name": "stdout",
     "output_type": "stream",
     "text": [
      "Pages - 1st Quartile:  236.125\n"
     ]
    }
   ],
   "source": [
    "import numpy\n",
    "\n",
    "values = [10, 367.3, 296.53, 112, 277.5, 295.5, 323.75, 1178]\n",
    "\n",
    "x = numpy.percentile(values, 25)\n",
    "\n",
    "print('Pages - 1st Quartile: ', x)"
   ]
  },
  {
   "cell_type": "markdown",
   "id": "66b242e4",
   "metadata": {},
   "source": [
    "#### MEDIAN"
   ]
  },
  {
   "cell_type": "code",
   "execution_count": 25,
   "id": "0f87aed3",
   "metadata": {},
   "outputs": [
    {
     "name": "stdout",
     "output_type": "stream",
     "text": [
      "Pages - Median:  296.015\n"
     ]
    }
   ],
   "source": [
    "import numpy\n",
    "\n",
    "values = [10, 367.3, 296.53, 112, 277.5, 295.5, 323.75, 1178]\n",
    "\n",
    "x = numpy.percentile(values, 50)\n",
    "\n",
    "print('Pages - Median: ', x)"
   ]
  },
  {
   "cell_type": "markdown",
   "id": "65261267",
   "metadata": {},
   "source": [
    "#### 3RD QUARTILE"
   ]
  },
  {
   "cell_type": "code",
   "execution_count": 38,
   "id": "80d6531c",
   "metadata": {},
   "outputs": [
    {
     "name": "stdout",
     "output_type": "stream",
     "text": [
      "Pages - 3rd Quartile:  334.6375\n"
     ]
    }
   ],
   "source": [
    "import numpy\n",
    "\n",
    "values = [10, 367.3, 296.53, 112, 277.5, 295.5, 323.75, 1178]\n",
    "\n",
    "x = numpy.percentile(values, 75)\n",
    "\n",
    "print('Pages - 3rd Quartile: ', x)"
   ]
  },
  {
   "cell_type": "markdown",
   "id": "06185a86",
   "metadata": {},
   "source": [
    "#### MAX"
   ]
  },
  {
   "cell_type": "code",
   "execution_count": 23,
   "id": "b4b9a1ff",
   "metadata": {},
   "outputs": [
    {
     "name": "stdout",
     "output_type": "stream",
     "text": [
      "Pages - Max:  1178\n"
     ]
    }
   ],
   "source": [
    "data = [10, 367.3, 296.53, 112, 277.5, 295.5, 323.75, 1178]\n",
    "\n",
    "r = max(data)\n",
    "print('Pages - Max: ', r)"
   ]
  },
  {
   "cell_type": "markdown",
   "id": "afce1817",
   "metadata": {},
   "source": [
    "#### BOX AND WHSIKERS"
   ]
  },
  {
   "cell_type": "code",
   "execution_count": 28,
   "id": "01a136ea",
   "metadata": {},
   "outputs": [
    {
     "data": {
      "image/png": "[encoded data removed]",
      "text/plain": [
       "<Figure size 640x480 with 1 Axes>"
      ]
     },
     "metadata": {},
     "output_type": "display_data"
    }
   ],
   "source": [
    "import matplotlib.pyplot as plt  \n",
    "import numpy as np  \n",
    "\n",
    "data = [10, 367.3, 296.53, 112, 277.5, 295.5, 323.75, 1178]\n",
    "plt.boxplot(data)  \n",
    "plt.show()  "
   ]
  },
  {
   "cell_type": "markdown",
   "id": "5adeae9a",
   "metadata": {},
   "source": [
    "### DISTRIBUTION SHAPE"
   ]
  },
  {
   "cell_type": "markdown",
   "id": "19729ab4",
   "metadata": {},
   "source": [
    "#### SKEWNESS"
   ]
  },
  {
   "cell_type": "code",
   "execution_count": 36,
   "id": "a7b9c11e",
   "metadata": {},
   "outputs": [
    {
     "name": "stdout",
     "output_type": "stream",
     "text": [
      "1.7249416109960538\n"
     ]
    }
   ],
   "source": [
    "from scipy import stats\n",
    "from scipy.stats import skew\n",
    "\n",
    "\n",
    "data = [10, 367.3, 296.53, 112, 277.5, 295.5, 323.75, 1178]\n",
    "print(skew(data))"
   ]
  },
  {
   "cell_type": "markdown",
   "id": "c22bf6ec",
   "metadata": {},
   "source": [
    "#### CHEBYSHEV'S"
   ]
  },
  {
   "cell_type": "code",
   "execution_count": 37,
   "id": "3f497e6e",
   "metadata": {},
   "outputs": [
    {
     "name": "stderr",
     "output_type": "stream",
     "text": [
      "C:\\Users\\alambat\\AppData\\Local\\Temp\\ipykernel_3308\\2541836037.py:39: UserWarning: Matplotlib is currently using module://matplotlib_inline.backend_inline, which is a non-GUI backend, so cannot show the figure.\n",
      "  plot.show()\n"
     ]
    },
    {
     "name": "stdout",
     "output_type": "stream",
     "text": [
      "Probability of a sample far from mean more than k standard deviation:\n",
      "k:10, probability: 0.0 | in theory, probability should less than: 0.01\n",
      "k:367.3, probability: 0.0 | in theory, probability should less than: 7.412\n",
      "k:296.53, probability: 0.0 | in theory, probability should less than: 1.137\n",
      "k:112, probability: 0.0 | in theory, probability should less than: 7.971\n",
      "k:277.5, probability: 0.0 | in theory, probability should less than: 1.298\n",
      "k:295.5, probability: 0.0 | in theory, probability should less than: 1.145\n",
      "k:323.75, probability: 0.0 | in theory, probability should less than: 9.540\n",
      "k:1178, probability: 0.0 | in theory, probability should less than: 7.206\n"
     ]
    },
    {
     "ename": "KeyboardInterrupt",
     "evalue": "Interrupted by user",
     "output_type": "error",
     "traceback": [
      "\u001b[1;31m---------------------------------------------------------------------------\u001b[0m",
      "\u001b[1;31mKeyboardInterrupt\u001b[0m                         Traceback (most recent call last)",
      "\u001b[1;32m~\\AppData\\Local\\Temp\\ipykernel_3308\\2541836037.py\u001b[0m in \u001b[0;36m<module>\u001b[1;34m\u001b[0m\n\u001b[0;32m     45\u001b[0m           \u001b[1;34m\" | in theory, probability should less than: \"\u001b[0m\u001b[0;31m \u001b[0m\u001b[0;31m\\\u001b[0m\u001b[1;33m\u001b[0m\u001b[1;33m\u001b[0m\u001b[0m\n\u001b[0;32m     46\u001b[0m           + str(1/ks[i]**2)[0:5])\n\u001b[1;32m---> 47\u001b[1;33m \u001b[0minput\u001b[0m\u001b[1;33m(\u001b[0m\u001b[1;33m)\u001b[0m\u001b[1;33m\u001b[0m\u001b[1;33m\u001b[0m\u001b[0m\n\u001b[0m",
      "\u001b[1;32m~\\Anaconda3\\lib\\site-packages\\ipykernel\\kernelbase.py\u001b[0m in \u001b[0;36mraw_input\u001b[1;34m(self, prompt)\u001b[0m\n\u001b[0;32m   1175\u001b[0m                 \u001b[1;34m\"raw_input was called, but this frontend does not support input requests.\"\u001b[0m\u001b[1;33m\u001b[0m\u001b[1;33m\u001b[0m\u001b[0m\n\u001b[0;32m   1176\u001b[0m             )\n\u001b[1;32m-> 1177\u001b[1;33m         return self._input_request(\n\u001b[0m\u001b[0;32m   1178\u001b[0m             \u001b[0mstr\u001b[0m\u001b[1;33m(\u001b[0m\u001b[0mprompt\u001b[0m\u001b[1;33m)\u001b[0m\u001b[1;33m,\u001b[0m\u001b[1;33m\u001b[0m\u001b[1;33m\u001b[0m\u001b[0m\n\u001b[0;32m   1179\u001b[0m             \u001b[0mself\u001b[0m\u001b[1;33m.\u001b[0m\u001b[0m_parent_ident\u001b[0m\u001b[1;33m[\u001b[0m\u001b[1;34m\"shell\"\u001b[0m\u001b[1;33m]\u001b[0m\u001b[1;33m,\u001b[0m\u001b[1;33m\u001b[0m\u001b[1;33m\u001b[0m\u001b[0m\n",
      "\u001b[1;32m~\\Anaconda3\\lib\\site-packages\\ipykernel\\kernelbase.py\u001b[0m in \u001b[0;36m_input_request\u001b[1;34m(self, prompt, ident, parent, password)\u001b[0m\n\u001b[0;32m   1217\u001b[0m             \u001b[1;32mexcept\u001b[0m \u001b[0mKeyboardInterrupt\u001b[0m\u001b[1;33m:\u001b[0m\u001b[1;33m\u001b[0m\u001b[1;33m\u001b[0m\u001b[0m\n\u001b[0;32m   1218\u001b[0m                 \u001b[1;31m# re-raise KeyboardInterrupt, to truncate traceback\u001b[0m\u001b[1;33m\u001b[0m\u001b[1;33m\u001b[0m\u001b[0m\n\u001b[1;32m-> 1219\u001b[1;33m                 \u001b[1;32mraise\u001b[0m \u001b[0mKeyboardInterrupt\u001b[0m\u001b[1;33m(\u001b[0m\u001b[1;34m\"Interrupted by user\"\u001b[0m\u001b[1;33m)\u001b[0m \u001b[1;32mfrom\u001b[0m \u001b[1;32mNone\u001b[0m\u001b[1;33m\u001b[0m\u001b[1;33m\u001b[0m\u001b[0m\n\u001b[0m\u001b[0;32m   1220\u001b[0m             \u001b[1;32mexcept\u001b[0m \u001b[0mException\u001b[0m\u001b[1;33m:\u001b[0m\u001b[1;33m\u001b[0m\u001b[1;33m\u001b[0m\u001b[0m\n\u001b[0;32m   1221\u001b[0m                 \u001b[0mself\u001b[0m\u001b[1;33m.\u001b[0m\u001b[0mlog\u001b[0m\u001b[1;33m.\u001b[0m\u001b[0mwarning\u001b[0m\u001b[1;33m(\u001b[0m\u001b[1;34m\"Invalid Message:\"\u001b[0m\u001b[1;33m,\u001b[0m \u001b[0mexc_info\u001b[0m\u001b[1;33m=\u001b[0m\u001b[1;32mTrue\u001b[0m\u001b[1;33m)\u001b[0m\u001b[1;33m\u001b[0m\u001b[1;33m\u001b[0m\u001b[0m\n",
      "\u001b[1;31mKeyboardInterrupt\u001b[0m: Interrupted by user"
     ]
    },
    {
     "data": {
      "image/png": "[encoded data removed]",
      "text/plain": [
       "<Figure size 2000x1000 with 1 Axes>"
      ]
     },
     "metadata": {},
     "output_type": "display_data"
    }
   ],
   "source": [
    "import numpy as np\n",
    "import random\n",
    "import matplotlib.pyplot as plt\n",
    "\n",
    "# Step 1\n",
    "# create a population with a gamma distribution\n",
    "shape, scale = 2., 2.  # mean=4, std=2*sqrt(2)\n",
    "mu = shape*scale # mean and standard deviation\n",
    "sigma = scale*np.sqrt(shape)\n",
    "s = np.random.gamma(shape, scale, 1000000)\n",
    "\n",
    "# Step 2\n",
    "# sample 10,000 sample\n",
    "rs = random.choices(s, k=10000)\n",
    "\n",
    "# Step 3\n",
    "# set k\n",
    "ks = [10, 367.3, 296.53, 112, 277.5, 295.5, 323.75, 1178]\n",
    "# prob list\n",
    "probs = []\n",
    "# for each k\n",
    "for k in ks: \n",
    "    # start count\n",
    "    c = 0\n",
    "    # for each data sample\n",
    "    for i in rs:\n",
    "        # count if far from mean in k standard deviation\n",
    "        if abs(i - mu) > k * sigma :\n",
    "            c += 1\n",
    "    # probability of sample has a distance from an expected value larger than k standrad deviation\n",
    "    probs.append(c/10000)\n",
    "\n",
    "# Step 4\n",
    "# set figure size\n",
    "plot = plt.figure(figsize=(20,10))\n",
    "# plot each probability\n",
    "plt.plot(ks,probs, marker='o')\n",
    "# show plot\n",
    "plot.show()\n",
    "# print each probability\n",
    "print(\"Probability of a sample far from mean more than k standard deviation:\")\n",
    "for i, prob in enumerate(probs):\n",
    "    print(\"k:\" + str(ks[i]) + \", probability: \" \\\n",
    "          + str(prob)[0:5] + \\\n",
    "          \" | in theory, probability should less than: \" \\\n",
    "          + str(1/ks[i]**2)[0:5])\n",
    "input()"
   ]
  },
  {
   "cell_type": "markdown",
   "id": "a38b87bf",
   "metadata": {},
   "source": [
    "#### EMPIRICAL RULE"
   ]
  },
  {
   "cell_type": "code",
   "execution_count": 48,
   "id": "e0b7369e",
   "metadata": {},
   "outputs": [
    {
     "ename": "AttributeError",
     "evalue": "'list' object has no attribute 'unique'",
     "output_type": "error",
     "traceback": [
      "\u001b[1;31m---------------------------------------------------------------------------\u001b[0m",
      "\u001b[1;31mAttributeError\u001b[0m                            Traceback (most recent call last)",
      "\u001b[1;32m~\\AppData\\Local\\Temp\\ipykernel_3308\\1505049070.py\u001b[0m in \u001b[0;36m<module>\u001b[1;34m\u001b[0m\n\u001b[0;32m      4\u001b[0m \u001b[1;33m\u001b[0m\u001b[0m\n\u001b[0;32m      5\u001b[0m \u001b[1;31m# create a sorted series of unique data\u001b[0m\u001b[1;33m\u001b[0m\u001b[1;33m\u001b[0m\u001b[0m\n\u001b[1;32m----> 6\u001b[1;33m \u001b[0mcdfx\u001b[0m \u001b[1;33m=\u001b[0m \u001b[0mnp\u001b[0m\u001b[1;33m.\u001b[0m\u001b[0msort\u001b[0m\u001b[1;33m(\u001b[0m\u001b[0mdata\u001b[0m\u001b[1;33m.\u001b[0m\u001b[0munique\u001b[0m\u001b[1;33m(\u001b[0m\u001b[1;33m)\u001b[0m\u001b[1;33m)\u001b[0m\u001b[1;33m\u001b[0m\u001b[1;33m\u001b[0m\u001b[0m\n\u001b[0m\u001b[0;32m      7\u001b[0m   \u001b[1;31m# x-data for the ECDF: evenly spaced sequence of the uniques\u001b[0m\u001b[1;33m\u001b[0m\u001b[1;33m\u001b[0m\u001b[0m\n\u001b[0;32m      8\u001b[0m x_values = np.linspace(start=min(cdfx),\n",
      "\u001b[1;31mAttributeError\u001b[0m: 'list' object has no attribute 'unique'"
     ]
    }
   ],
   "source": [
    "data = [10, 367.3, 296.53, 112, 277.5, 295.5, 323.75, 1178]\n",
    "\n",
    "raw_data = np.array(data)\n",
    "\n",
    "# create a sorted series of unique data\n",
    "cdfx = np.sort(data.unique())\n",
    "  # x-data for the ECDF: evenly spaced sequence of the uniques\n",
    "x_values = np.linspace(start=min(cdfx),\n",
    "stop=max(cdfx),num=len(cdfx))\n",
    "    \n",
    "    # size of the x_values\n",
    "size_data = raw_data.size\n",
    "    # y-data for the ECDF:\n",
    "y_values = []\n",
    "for i in x_value:\n",
    "        # all the values in raw data less than the ith value in x_values\n",
    "    temp = raw_data[raw_data <= i]\n",
    "        # fraction of that value with respect to the size of the x_values\n",
    "    value = temp.size / size_data\n",
    "        # pushing the value in the y_values\n",
    "    y_values.append(value)\n",
    "    # return both x and y values    \n",
    "return x_values,y_values"
   ]
  },
  {
   "cell_type": "markdown",
   "id": "fa636355",
   "metadata": {},
   "source": [
    "#### DETECTING OUTLIERS"
   ]
  },
  {
   "cell_type": "code",
   "execution_count": 54,
   "id": "effe1d31",
   "metadata": {},
   "outputs": [
    {
     "ename": "AttributeError",
     "evalue": "'list' object has no attribute 'quantile'",
     "output_type": "error",
     "traceback": [
      "\u001b[1;31m---------------------------------------------------------------------------\u001b[0m",
      "\u001b[1;31mAttributeError\u001b[0m                            Traceback (most recent call last)",
      "\u001b[1;32m~\\AppData\\Local\\Temp\\ipykernel_3308\\399411030.py\u001b[0m in \u001b[0;36m<module>\u001b[1;34m\u001b[0m\n\u001b[0;32m      7\u001b[0m     \u001b[1;32mreturn\u001b[0m \u001b[0moutliers\u001b[0m\u001b[1;33m\u001b[0m\u001b[1;33m\u001b[0m\u001b[0m\n\u001b[0;32m      8\u001b[0m \u001b[1;33m\u001b[0m\u001b[0m\n\u001b[1;32m----> 9\u001b[1;33m \u001b[0moutliers\u001b[0m \u001b[1;33m=\u001b[0m \u001b[0mfind_outliers_IQR\u001b[0m\u001b[1;33m(\u001b[0m\u001b[0mdf\u001b[0m \u001b[1;33m=\u001b[0m \u001b[1;33m[\u001b[0m\u001b[1;36m10\u001b[0m\u001b[1;33m,\u001b[0m \u001b[1;36m367.3\u001b[0m\u001b[1;33m,\u001b[0m \u001b[1;36m296.53\u001b[0m\u001b[1;33m,\u001b[0m \u001b[1;36m112\u001b[0m\u001b[1;33m,\u001b[0m \u001b[1;36m277.5\u001b[0m\u001b[1;33m,\u001b[0m \u001b[1;36m295.5\u001b[0m\u001b[1;33m,\u001b[0m \u001b[1;36m323.75\u001b[0m\u001b[1;33m,\u001b[0m \u001b[1;36m1178\u001b[0m\u001b[1;33m]\u001b[0m\u001b[1;33m)\u001b[0m\u001b[1;33m\u001b[0m\u001b[1;33m\u001b[0m\u001b[0m\n\u001b[0m\u001b[0;32m     10\u001b[0m \u001b[1;33m\u001b[0m\u001b[0m\n\u001b[0;32m     11\u001b[0m \u001b[0mprint\u001b[0m\u001b[1;33m(\u001b[0m \u001b[1;34m'number of outliers: '\u001b[0m\u001b[1;33m+\u001b[0m \u001b[0mstr\u001b[0m\u001b[1;33m(\u001b[0m\u001b[0mlen\u001b[0m\u001b[1;33m(\u001b[0m\u001b[0moutliers\u001b[0m\u001b[1;33m)\u001b[0m\u001b[1;33m)\u001b[0m\u001b[1;33m)\u001b[0m\u001b[1;33m\u001b[0m\u001b[1;33m\u001b[0m\u001b[0m\n",
      "\u001b[1;32m~\\AppData\\Local\\Temp\\ipykernel_3308\\399411030.py\u001b[0m in \u001b[0;36mfind_outliers_IQR\u001b[1;34m(df)\u001b[0m\n\u001b[0;32m      1\u001b[0m \u001b[1;32mdef\u001b[0m \u001b[0mfind_outliers_IQR\u001b[0m\u001b[1;33m(\u001b[0m\u001b[0mdf\u001b[0m\u001b[1;33m)\u001b[0m\u001b[1;33m:\u001b[0m\u001b[1;33m\u001b[0m\u001b[1;33m\u001b[0m\u001b[0m\n\u001b[0;32m      2\u001b[0m \u001b[1;33m\u001b[0m\u001b[0m\n\u001b[1;32m----> 3\u001b[1;33m     \u001b[0mq1\u001b[0m\u001b[1;33m=\u001b[0m\u001b[0mdf\u001b[0m\u001b[1;33m.\u001b[0m\u001b[0mquantile\u001b[0m\u001b[1;33m(\u001b[0m\u001b[1;36m0.25\u001b[0m\u001b[1;33m)\u001b[0m\u001b[1;33m\u001b[0m\u001b[1;33m\u001b[0m\u001b[0m\n\u001b[0m\u001b[0;32m      4\u001b[0m     \u001b[0mq3\u001b[0m\u001b[1;33m=\u001b[0m\u001b[0mdf\u001b[0m\u001b[1;33m.\u001b[0m\u001b[0mquantile\u001b[0m\u001b[1;33m(\u001b[0m\u001b[1;36m0.75\u001b[0m\u001b[1;33m)\u001b[0m\u001b[1;33m\u001b[0m\u001b[1;33m\u001b[0m\u001b[0m\n\u001b[0;32m      5\u001b[0m     \u001b[0mIQR\u001b[0m\u001b[1;33m=\u001b[0m\u001b[0mq3\u001b[0m\u001b[1;33m-\u001b[0m\u001b[0mq1\u001b[0m\u001b[1;33m\u001b[0m\u001b[1;33m\u001b[0m\u001b[0m\n",
      "\u001b[1;31mAttributeError\u001b[0m: 'list' object has no attribute 'quantile'"
     ]
    }
   ],
   "source": [
    "def find_outliers_IQR(df):\n",
    "\n",
    "    q1=df.quantile(0.25)\n",
    "    q3=df.quantile(0.75)\n",
    "    IQR=q3-q1\n",
    "    outliers = df[((df<(q1-1.5*IQR)) | (df>(q3+1.5*IQR)))]\n",
    "    return outliers\n",
    "\n",
    "outliers = find_outliers_IQR(df = [10, 367.3, 296.53, 112, 277.5, 295.5, 323.75, 1178])\n",
    "\n",
    "print( 'number of outliers: '+ str(len(outliers)))\n",
    "\n",
    "print('max outlier value: '+ str(outliers.max()))\n",
    "\n",
    "print('min outlier value: '+ str(outliers.min()))"
   ]
  },
  {
   "cell_type": "markdown",
   "id": "c6499e74",
   "metadata": {},
   "source": [
    "#### Z SCORES"
   ]
  },
  {
   "cell_type": "code",
   "execution_count": 55,
   "id": "fcef9901",
   "metadata": {},
   "outputs": [
    {
     "name": "stdout",
     "output_type": "stream",
     "text": [
      "[-1.05431359  0.02950704 -0.18516407 -0.74491056 -0.24288897 -0.18828843\n",
      " -0.10259592  2.4886545 ]\n"
     ]
    }
   ],
   "source": [
    "import pandas as pd\n",
    "import numpy as np\n",
    "import scipy.stats as stats\n",
    "\n",
    "data = np.array([10, 367.3, 296.53, 112, 277.5, 295.5, 323.75, 1178])\n",
    "print(stats.zscore(data))"
   ]
  },
  {
   "cell_type": "markdown",
   "id": "dd6188fc",
   "metadata": {},
   "source": [
    "***"
   ]
  },
  {
   "cell_type": "markdown",
   "id": "52e6363f",
   "metadata": {},
   "source": [
    "### ASSOCIATION"
   ]
  },
  {
   "cell_type": "markdown",
   "id": "62c4f444",
   "metadata": {},
   "source": [
    "#### COVARIANCE"
   ]
  },
  {
   "cell_type": "code",
   "execution_count": 56,
   "id": "9e3b3f7e",
   "metadata": {},
   "outputs": [
    {
     "ename": "NameError",
     "evalue": "name 'df' is not defined",
     "output_type": "error",
     "traceback": [
      "\u001b[1;31m---------------------------------------------------------------------------\u001b[0m",
      "\u001b[1;31mNameError\u001b[0m                                 Traceback (most recent call last)",
      "\u001b[1;32m~\\AppData\\Local\\Temp\\ipykernel_3308\\1205087198.py\u001b[0m in \u001b[0;36m<module>\u001b[1;34m\u001b[0m\n\u001b[0;32m      4\u001b[0m \u001b[0mb\u001b[0m \u001b[1;33m=\u001b[0m \u001b[1;33m[\u001b[0m\u001b[1;36m10\u001b[0m\u001b[1;33m,\u001b[0m \u001b[1;36m4.1\u001b[0m\u001b[1;33m,\u001b[0m \u001b[1;36m0.2\u001b[0m\u001b[1;33m,\u001b[0m \u001b[1;36m3.8\u001b[0m\u001b[1;33m,\u001b[0m \u001b[1;36m4.0\u001b[0m\u001b[1;33m,\u001b[0m \u001b[1;36m4.1\u001b[0m\u001b[1;33m,\u001b[0m \u001b[1;36m4.3\u001b[0m\u001b[1;33m,\u001b[0m \u001b[1;36m4.5\u001b[0m\u001b[1;33m]\u001b[0m\u001b[1;33m\u001b[0m\u001b[1;33m\u001b[0m\u001b[0m\n\u001b[0;32m      5\u001b[0m \u001b[1;33m\u001b[0m\u001b[0m\n\u001b[1;32m----> 6\u001b[1;33m \u001b[0mplt\u001b[0m\u001b[1;33m.\u001b[0m\u001b[0mscatter\u001b[0m\u001b[1;33m(\u001b[0m\u001b[0mdf\u001b[0m\u001b[1;33m[\u001b[0m\u001b[1;34m'a'\u001b[0m\u001b[1;33m]\u001b[0m\u001b[1;33m,\u001b[0m \u001b[0mdf\u001b[0m\u001b[1;33m[\u001b[0m\u001b[1;34m'b'\u001b[0m\u001b[1;33m]\u001b[0m\u001b[1;33m)\u001b[0m\u001b[1;33m\u001b[0m\u001b[1;33m\u001b[0m\u001b[0m\n\u001b[0m\u001b[0;32m      7\u001b[0m \u001b[0mplt\u001b[0m\u001b[1;33m.\u001b[0m\u001b[0mxlabel\u001b[0m\u001b[1;33m(\u001b[0m\u001b[1;34m'a'\u001b[0m\u001b[1;33m)\u001b[0m\u001b[1;33m\u001b[0m\u001b[1;33m\u001b[0m\u001b[0m\n\u001b[0;32m      8\u001b[0m \u001b[0mplt\u001b[0m\u001b[1;33m.\u001b[0m\u001b[0mylabel\u001b[0m\u001b[1;33m(\u001b[0m\u001b[1;34m'b'\u001b[0m\u001b[1;33m)\u001b[0m\u001b[1;33m\u001b[0m\u001b[1;33m\u001b[0m\u001b[0m\n",
      "\u001b[1;31mNameError\u001b[0m: name 'df' is not defined"
     ]
    }
   ],
   "source": [
    "import matplotlib.pyplot as plt\n",
    "\n",
    "a = [10, 367.3, 296.53, 112, 277.5, 295.5, 323.75, 1178]\n",
    "b = [10, 4.1, 0.2, 3.8, 4.0, 4.1, 4.3, 4.5]\n",
    "\n",
    "plt.scatter(df['a'], df['b'])\n",
    "plt.xlabel('a')\n",
    "plt.ylabel('b')"
   ]
  },
  {
   "cell_type": "markdown",
   "id": "e0d6b9f1",
   "metadata": {},
   "source": [
    "#### CORRELATION COEFFICIENT"
   ]
  },
  {
   "cell_type": "code",
   "execution_count": 57,
   "id": "942f1d00",
   "metadata": {},
   "outputs": [
    {
     "data": {
      "text/plain": [
       "-0.21439217390953685"
      ]
     },
     "execution_count": 57,
     "metadata": {},
     "output_type": "execute_result"
    }
   ],
   "source": [
    "import pandas as pd\n",
    "\n",
    "x = pd.Series([10, 367.3, 296.53, 112, 277.5, 295.5, 323.75, 1178])\n",
    "y = pd.Series([10, 4.1, 0.2, 3.8, 4.0, 4.1, 4.3, 4.5])\n",
    "\n",
    "x.corr(y)                     # Pearson's r\n",
    "y.corr(x)"
   ]
  },
  {
   "cell_type": "markdown",
   "id": "8557a92a",
   "metadata": {},
   "source": [
    "***"
   ]
  },
  {
   "cell_type": "markdown",
   "id": "e87e2f98",
   "metadata": {},
   "source": [
    "## EXTRA STATISTICS"
   ]
  },
  {
   "cell_type": "markdown",
   "id": "92e0b706",
   "metadata": {},
   "source": [
    "#### 47TH PERCENTILE"
   ]
  },
  {
   "cell_type": "code",
   "execution_count": 58,
   "id": "1b79890f",
   "metadata": {},
   "outputs": [
    {
     "name": "stdout",
     "output_type": "stream",
     "text": [
      "Pages - Percentile:  295.7987\n"
     ]
    }
   ],
   "source": [
    "import numpy as np\n",
    "\n",
    "# Array of data\n",
    "arr = [10, 367.3, 296.53, 112, 277.5, 295.5, 323.75, 1178]\n",
    "\n",
    "# Finding the 100 percentile \n",
    "x = np.percentile(arr, 47)\n",
    "print('Pages - Percentile: ', x)"
   ]
  },
  {
   "cell_type": "markdown",
   "id": "cc9316c3",
   "metadata": {},
   "source": [
    "#### 86th PERCENTILE"
   ]
  },
  {
   "cell_type": "code",
   "execution_count": 59,
   "id": "41c41723",
   "metadata": {},
   "outputs": [
    {
     "name": "stdout",
     "output_type": "stream",
     "text": [
      "Pages - Percentile:  383.51399999999967\n"
     ]
    }
   ],
   "source": [
    "import numpy as np\n",
    "\n",
    "# Array of data\n",
    "arr = [10, 367.3, 296.53, 112, 277.5, 295.5, 323.75, 1178]\n",
    "\n",
    "# Finding the 100 percentile \n",
    "x = np.percentile(arr, 86)\n",
    "print('Pages - Percentile: ', x)"
   ]
  },
  {
   "cell_type": "markdown",
   "id": "b4c6413b",
   "metadata": {},
   "source": [
    "#### 5TH LARGEST "
   ]
  },
  {
   "cell_type": "code",
   "execution_count": 60,
   "id": "427dc847",
   "metadata": {},
   "outputs": [
    {
     "name": "stdout",
     "output_type": "stream",
     "text": [
      "Which largest you want? 5\n",
      "295.5\n"
     ]
    }
   ],
   "source": [
    "n = int(input('Which largest you want? ')) \n",
    "l = [10, 367.3, 296.53, 112, 277.5, 295.5, 323.75, 1178]\n",
    "l.sort(reverse = True) \n",
    "print(l[n-1]) "
   ]
  },
  {
   "cell_type": "markdown",
   "id": "75f0e62d",
   "metadata": {},
   "source": [
    "#### 5TH SMALLEST"
   ]
  },
  {
   "cell_type": "code",
   "execution_count": 62,
   "id": "1f69e0ca",
   "metadata": {},
   "outputs": [
    {
     "name": "stdout",
     "output_type": "stream",
     "text": [
      "Which smallest you want? 5\n",
      "112\n"
     ]
    }
   ],
   "source": [
    "n = int(input('Which smallest you want? ')) \n",
    "l = [10, 367.3, 296.53, 112, 277.5, 295.5, 323.75, 1178]\n",
    "l.sort(reverse = True) \n",
    "print(l[n+1]) "
   ]
  },
  {
   "cell_type": "markdown",
   "id": "f206f6a7",
   "metadata": {},
   "source": [
    "#### COUNT OF PAGES"
   ]
  },
  {
   "cell_type": "code",
   "execution_count": 63,
   "id": "6b758f0a",
   "metadata": {},
   "outputs": [
    {
     "name": "stdout",
     "output_type": "stream",
     "text": [
      "8\n"
     ]
    }
   ],
   "source": [
    "data = [10, 367.3, 296.53, 112, 277.5, 295.5, 323.75, 1178]\n",
    "size = len(data)\n",
    "print(size)"
   ]
  },
  {
   "cell_type": "markdown",
   "id": "f6902f26",
   "metadata": {},
   "source": [
    "## REFLECTIONS"
   ]
  },
  {
   "cell_type": "markdown",
   "id": "70450278",
   "metadata": {},
   "source": [
    "Overall I enjoyed the Excel assignment way more than I did this one.This task was way more complicating and frustrating.I personally really like Excel and I felt that everything is so easily done there. You're also able to add colours and fonts and make everything look so much more appealing.\n",
    "If ever given the choice I would conduct my stats in Excel anyday! I think the only way you would get me to do it in Python is if i am forced to.\n",
    "I actually did do the assignment over. This was my 4th attempt at this task and it was the only one I was able to get this far.\n",
    "The main problem for me is that my gaps are in programming, but I don't know where exactly.\n",
    "\n",
    "Although Python is unquestionably a more capable and adaptable tool for data analysis, Excel has some benefits that make it my preferred option for some statistical tasks.\n",
    "\n",
    "Excel's user-friendly design is one of its key benefits. Excel is accessible to a wider audience, including non-technical people, thanks to its graphical user interface (GUI), which is simple and straightforward to use. When working on group projects with team members who might not be conversant with programming ideas, this is especially helpful. It is also simpler to present and communicate data to stakeholders because to Excel's built-in capabilities for creating charts, pivot tables, and other types of visualizations.\n",
    "\n",
    "When working with structured data, Excel is a helpful tool for evaluating small to medium-sized data sets. It includes statistical calculations including regression analysis, ANOVA, and t-tests as well as formulas and built-in functions for fundamental statistics. The data accuracy and dependability are further ensured by Excel's data validation and error-checking tools."
   ]
  }
 ],
 "metadata": {
  "kernelspec": {
   "display_name": "Python 3 (ipykernel)",
   "language": "python",
   "name": "python3"
  },
  "language_info": {
   "codemirror_mode": {
    "name": "ipython",
    "version": 3
   },
   "file_extension": ".py",
   "mimetype": "text/x-python",
   "name": "python",
   "nbconvert_exporter": "python",
   "pygments_lexer": "ipython3",
   "version": "3.9.13"
  }
 },
 "nbformat": 4,
 "nbformat_minor": 5
}
